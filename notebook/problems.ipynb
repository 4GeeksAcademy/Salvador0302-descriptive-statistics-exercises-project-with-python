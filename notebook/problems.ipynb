{
    "cells": [
        {
            "cell_type": "markdown",
            "id": "ac622319",
            "metadata": {},
            "source": [
                "# Descriptive statistics problems"
            ]
        },
        {
            "cell_type": "markdown",
            "id": "5e0ab0d5",
            "metadata": {},
            "source": [
                "### Exercise 1\n",
                "\n",
                "We will use NumPy to obtain information to describe statistically.\n",
                "\n",
                "- Generate an array of 100 elements following a normal distribution.\n",
                "- Generate an array of 100 elements following a chi-square distribution with 3 degrees of freedom.\n",
                "- Calculate the main metrics and statistical measures that best describe the two vectors."
            ]
        },
        {
            "cell_type": "code",
            "execution_count": 70,
            "id": "34720ab6",
            "metadata": {},
            "outputs": [
                {
                    "name": "stdout",
                    "output_type": "stream",
                    "text": [
                        "------------------------------------ NORMAL --------------------------------------\n",
                        "La media de la distribucion normal es:  -0.03341226914096026\n",
                        "La mediana de la distribucion normal es:  -0.002439656856896885\n",
                        "La moda de la distribucion normal es:  -0.2981525261999003\n",
                        "La varianza de la distribucion normal es:  0.7648796169439217\n",
                        "La desviacion estandar de la distribucion normal es:  0.8745739631065641\n",
                        "El rango de la distribucion normal es:  4.4133531153134165\n",
                        "La asimetria de la distribucion normal es:  0.071445344691218\n",
                        "La kurtosis de la distribucion normal es:  -0.11259516076347698\n",
                        "----------------------------------------------------------------------------------\n",
                        "--------------------------------- CHI CUADRADO -----------------------------------\n",
                        "La media de la distribucion chi cuadrado es:  2.837203202751793\n",
                        "La mediana de la distribucion chi cuadrado es:  2.5637078365463735\n",
                        "La moda de la distribucion chi cuadrado es:  6.29097164865874\n",
                        "La varianza de la distribucion chi cuadrado es:  3.494468374996878\n",
                        "La desviacion estandar de la distribucion chi cuadrado es:  1.869349719821542\n",
                        "El rango de la distribucion chi cuadrado es:  2.500889688259374\n",
                        "La asimetria de la distribucion chi cuadrado es:  0.7112638734881609\n",
                        "La kurtosis de la distribucion chi cuadrado es:  -0.2010951022601808\n"
                    ]
                }
            ],
            "source": [
                "import numpy as np\n",
                "import statistics as stats\n",
                "from scipy.stats import skew\n",
                "from scipy.stats import kurtosis\n",
                "\n",
                "dis_normal = np.random.normal(0,1,100)\n",
                "dis_chi_2 = np.random.chisquare(3,100)\n",
                "\n",
                "print(\"------------------------------------ NORMAL --------------------------------------\")\n",
                "\n",
                "media_normal = stats.mean(dis_normal)\n",
                "mediana_normal = stats.median(dis_normal)\n",
                "moda_normal = stats.mode(dis_normal)\n",
                "varianza_normal = stats.variance(dis_normal)\n",
                "desviacion_estandar_normal = stats.stdev(dis_normal)\n",
                "rango_normal = max(dis_normal) - min(dis_normal)\n",
                "asimetria_normal = skew(dis_normal)\n",
                "kurtosis_normal = kurtosis(dis_normal)\n",
                "\n",
                "print(\"La media de la distribucion normal es: \", media_normal)\n",
                "print(\"La mediana de la distribucion normal es: \", mediana_normal)\n",
                "print(\"La moda de la distribucion normal es: \", moda_normal)\n",
                "print(\"La varianza de la distribucion normal es: \", varianza_normal)\n",
                "print(\"La desviacion estandar de la distribucion normal es: \", desviacion_estandar_normal)\n",
                "print(\"El rango de la distribucion normal es: \", rango_normal)\n",
                "print(\"La asimetria de la distribucion normal es: \", asimetria_normal)\n",
                "print(\"La kurtosis de la distribucion normal es: \", kurtosis_normal)\n",
                "\n",
                "print(\"----------------------------------------------------------------------------------\")\n",
                "print(\"--------------------------------- CHI CUADRADO -----------------------------------\")\n",
                "\n",
                "media_chi2 = stats.mean(dis_chi_2)\n",
                "mediana_chi2 = stats.median(dis_chi_2)\n",
                "moda_chi2 = stats.mode(dis_chi_2)\n",
                "varianza_chi2 = stats.variance(dis_chi_2)\n",
                "desviacion_chi2 = stats.stdev(dis_chi_2)\n",
                "rango_chi2 = max(dis_normal) - min(dis_chi_2)\n",
                "asimetria_chi2 = skew(dis_chi_2)\n",
                "kurtosis_chi2 = kurtosis(dis_chi_2)\n",
                "\n",
                "print(\"La media de la distribucion chi cuadrado es: \", media_chi2)\n",
                "print(\"La mediana de la distribucion chi cuadrado es: \", mediana_chi2)\n",
                "print(\"La moda de la distribucion chi cuadrado es: \", moda_chi2)\n",
                "print(\"La varianza de la distribucion chi cuadrado es: \", varianza_chi2)\n",
                "print(\"La desviacion estandar de la distribucion chi cuadrado es: \", desviacion_chi2)\n",
                "print(\"El rango de la distribucion chi cuadrado es: \", rango_chi2)\n",
                "print(\"La asimetria de la distribucion chi cuadrado es: \", asimetria_chi2)\n",
                "print(\"La kurtosis de la distribucion chi cuadrado es: \", kurtosis_chi2)\n"
            ]
        },
        {
            "cell_type": "markdown",
            "id": "46c70c3d",
            "metadata": {},
            "source": [
                "### Exercise 2\n",
                "\n",
                "Write a Python program to calculate the standard deviation of the following data:\n",
                "\n",
                "```py\n",
                "data = [4, 2, 5, 8, 6]\n",
                "```"
            ]
        },
        {
            "cell_type": "code",
            "execution_count": 82,
            "id": "d590308e",
            "metadata": {},
            "outputs": [
                {
                    "name": "stdout",
                    "output_type": "stream",
                    "text": [
                        "La desviacion estandar es:  2.23606797749979\n"
                    ]
                }
            ],
            "source": [
                "data = [4,2,5,8,6]\n",
                "desviacion_estandar = stats.stdev(data)\n",
                "print(\"La desviacion estandar es: \", desviacion_estandar)"
            ]
        }
    ],
    "metadata": {
        "kernelspec": {
            "display_name": "Python 3",
            "language": "python",
            "name": "python3"
        },
        "language_info": {
            "codemirror_mode": {
                "name": "ipython",
                "version": 3
            },
            "file_extension": ".py",
            "mimetype": "text/x-python",
            "name": "python",
            "nbconvert_exporter": "python",
            "pygments_lexer": "ipython3",
            "version": "3.11.4"
        }
    },
    "nbformat": 4,
    "nbformat_minor": 5
}
